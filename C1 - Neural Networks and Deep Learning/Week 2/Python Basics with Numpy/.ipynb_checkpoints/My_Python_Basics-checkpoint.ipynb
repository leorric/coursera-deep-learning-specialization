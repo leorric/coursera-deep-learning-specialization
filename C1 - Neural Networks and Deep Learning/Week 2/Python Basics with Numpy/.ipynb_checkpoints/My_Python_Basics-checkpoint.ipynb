{
 "cells": [
  {
   "cell_type": "markdown",
   "id": "85cb0e5a-8376-440e-88b1-e1063ae2cf5f",
   "metadata": {},
   "source": [
    "## sigmoid function"
   ]
  },
  {
   "cell_type": "code",
   "execution_count": 3,
   "id": "f21084f0-3b2a-4adf-93e7-0a4e26e9c815",
   "metadata": {},
   "outputs": [
    {
     "name": "stdout",
     "output_type": "stream",
     "text": [
      "0.9525741268224334\n"
     ]
    }
   ],
   "source": [
    "import math\n",
    "\n",
    "def basic_sigmoid(x):\n",
    "    return 1/(1+math.exp(-x))\n",
    "\n",
    "\n",
    "n = basic_sigmoid(3)\n",
    "print(n)"
   ]
  },
  {
   "cell_type": "markdown",
   "id": "b8aa6b26-4bb6-42f5-8f56-cc8c33e4b2bc",
   "metadata": {},
   "source": [
    "## sigmoid function using numpy"
   ]
  },
  {
   "cell_type": "code",
   "execution_count": 12,
   "id": "b5ab1ac8-10ef-49d2-85d3-f587dc28d381",
   "metadata": {},
   "outputs": [
    {
     "name": "stdout",
     "output_type": "stream",
     "text": [
      "[1 2 3]\n",
      "[ 2.71828183  7.3890561  20.08553692]\n",
      "[4 5 6]\n"
     ]
    }
   ],
   "source": [
    "import numpy as np\n",
    "x = np.array([1,2,3])\n",
    "print(x)\n",
    "print(x+3)\n",
    "\n",
    "sigX = np.exp(x)\n",
    "print(sigX)\n"
   ]
  },
  {
   "cell_type": "code",
   "execution_count": 15,
   "id": "cc4b477d-1426-4c6c-a2c7-061a4ba0f66f",
   "metadata": {},
   "outputs": [
    {
     "name": "stdout",
     "output_type": "stream",
     "text": [
      "[1 2 3]\n",
      "[0.73105858 0.88079708 0.95257413]\n"
     ]
    }
   ],
   "source": [
    "def sigmoid(x):\n",
    "    return 1/(1+np.exp(-x))\n",
    "\n",
    "print(x)\n",
    "print(sigmoid(x))"
   ]
  },
  {
   "cell_type": "markdown",
   "id": "b0d4b63e-c8c0-45f2-8adb-ae2bc5aba6b0",
   "metadata": {},
   "source": [
    "## sigmoid gradient "
   ]
  },
  {
   "cell_type": "code",
   "execution_count": null,
   "id": "c1d0aa45-ec35-4af4-b665-92930efebcdd",
   "metadata": {},
   "outputs": [],
   "source": []
  },
  {
   "cell_type": "markdown",
   "id": "e948dd20-a1fa-4bc5-aa80-240f1ce1926d",
   "metadata": {},
   "source": [
    "## Reshape Arrays"
   ]
  },
  {
   "cell_type": "code",
   "execution_count": 24,
   "id": "dda25651-a6a5-44db-94d9-882a6618b420",
   "metadata": {},
   "outputs": [
    {
     "name": "stdout",
     "output_type": "stream",
     "text": [
      "[[[  1   1]\n",
      "  [  2   2]\n",
      "  [  3   3]]\n",
      "\n",
      " [[ 10  10]\n",
      "  [ 20  20]\n",
      "  [ 30  30]]\n",
      "\n",
      " [[100 100]\n",
      "  [200 200]\n",
      "  [300 300]]]\n",
      "reshape to\n",
      "[[  1]\n",
      " [  1]\n",
      " [  2]\n",
      " [  2]\n",
      " [  3]\n",
      " [  3]\n",
      " [ 10]\n",
      " [ 10]\n",
      " [ 20]\n",
      " [ 20]\n",
      " [ 30]\n",
      " [ 30]\n",
      " [100]\n",
      " [100]\n",
      " [200]\n",
      " [200]\n",
      " [300]\n",
      " [300]]\n"
     ]
    }
   ],
   "source": [
    "def img2vector(image):\n",
    "    vector = image.reshape(image.shape[0]*image.shape[1]*image.shape[2],1)\n",
    "    return vector\n",
    "\n",
    "image = np.array(\n",
    "    [\n",
    "        [\n",
    "         [1,1],\n",
    "         [2,2],\n",
    "         [3,3]\n",
    "        ],\n",
    "        [\n",
    "         [10,10],\n",
    "         [20,20],\n",
    "         [30,30]\n",
    "        ],\n",
    "        [\n",
    "         [100,100],\n",
    "         [200,200],\n",
    "         [300,300]\n",
    "        ] \n",
    "    ]\n",
    ")\n",
    "\n",
    "print(image)\n",
    "\n",
    "vector = img2vector(image)\n",
    "print(\"reshape to\")\n",
    "print(vector)"
   ]
  },
  {
   "cell_type": "markdown",
   "id": "adb09c24-69cb-4617-ae7f-ed7751c09269",
   "metadata": {},
   "source": [
    "## Normalized Rows"
   ]
  }
 ],
 "metadata": {
  "kernelspec": {
   "display_name": "Python 3 (ipykernel)",
   "language": "python",
   "name": "python3"
  },
  "language_info": {
   "codemirror_mode": {
    "name": "ipython",
    "version": 3
   },
   "file_extension": ".py",
   "mimetype": "text/x-python",
   "name": "python",
   "nbconvert_exporter": "python",
   "pygments_lexer": "ipython3",
   "version": "3.9.6"
  }
 },
 "nbformat": 4,
 "nbformat_minor": 5
}
