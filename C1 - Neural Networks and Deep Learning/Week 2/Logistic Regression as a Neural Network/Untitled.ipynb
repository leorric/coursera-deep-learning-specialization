{
 "cells": [
  {
   "cell_type": "code",
   "execution_count": 1,
   "id": "5d1709f3-0f71-47e4-8cc1-fea693dce47e",
   "metadata": {},
   "outputs": [],
   "source": [
    "import numpy as np\n"
   ]
  },
  {
   "cell_type": "code",
   "execution_count": 21,
   "id": "9e852d6f-8cfc-4451-a661-99939f9c9369",
   "metadata": {},
   "outputs": [
    {
     "name": "stdout",
     "output_type": "stream",
     "text": [
      "ar1 shape:(3, 3)\n",
      "ar2 shape:(3, 1)\n",
      "[[3 6 9]\n",
      " [4 6 8]\n",
      " [4 5 6]]\n"
     ]
    }
   ],
   "source": [
    "ar1 = np.array([[1,2,3],[2,3,4],[4,5,6]])\n",
    "ar2 = np.array([[3],[2],[1]])\n",
    "\n",
    "\n",
    "print(\"ar1 shape:\" + str(ar1.shape))\n",
    "print(\"ar2 shape:\" + str(ar2.shape))\n",
    "\n",
    "print(ar1 * ar2)"
   ]
  },
  {
   "cell_type": "code",
   "execution_count": 7,
   "id": "94e07419-5dfa-4816-8b9f-94e9f80034ff",
   "metadata": {},
   "outputs": [
    {
     "name": "stdout",
     "output_type": "stream",
     "text": [
      "multiply:[[10]]\n",
      "shape:(1, 1)\n",
      "before squeeze:[[10]]\n",
      "shape:()\n",
      "10\n"
     ]
    }
   ],
   "source": [
    "mul = np.dot(ar1, ar2)\n",
    "print(\"multiply:\" + str(mul))\n",
    "print(\"shape:\" + str(mul.shape))\n",
    "print(\"before squeeze:\" + str(mul))\n",
    "\n",
    "mul = np.squeeze(mul)\n",
    "print(\"shape:\" + str(mul.shape))\n",
    "print(mul)"
   ]
  },
  {
   "cell_type": "code",
   "execution_count": 9,
   "id": "4a5ed7d0-ef38-48c9-812e-f6c26e702e29",
   "metadata": {},
   "outputs": [
    {
     "name": "stdout",
     "output_type": "stream",
     "text": [
      "hello james\n"
     ]
    }
   ],
   "source": [
    "print(\"hello {}\".format(\"james\"))"
   ]
  },
  {
   "cell_type": "code",
   "execution_count": 10,
   "id": "bdcf48cb-33c2-431c-9e67-b8920ef84ac9",
   "metadata": {},
   "outputs": [
    {
     "name": "stdout",
     "output_type": "stream",
     "text": [
      "()\n",
      "2.0\n"
     ]
    }
   ],
   "source": [
    "ar3 = np.array([1,2,3])\n",
    "val = np.mean(ar3)\n",
    "print(val.shape)\n",
    "print(val)"
   ]
  },
  {
   "cell_type": "code",
   "execution_count": 11,
   "id": "4d270246-cf90-4366-8d7d-50a5b686d640",
   "metadata": {},
   "outputs": [],
   "source": [
    "cost = []\n",
    "cost.append(1.0)"
   ]
  },
  {
   "cell_type": "code",
   "execution_count": 13,
   "id": "8752f26b-f523-4da9-a883-fd38fddc6d06",
   "metadata": {},
   "outputs": [
    {
     "name": "stdout",
     "output_type": "stream",
     "text": [
      "[1.0]\n"
     ]
    }
   ],
   "source": [
    "print(cost)"
   ]
  },
  {
   "cell_type": "code",
   "execution_count": 15,
   "id": "04181fae-20c3-442e-ace7-0e887c89182a",
   "metadata": {},
   "outputs": [
    {
     "name": "stdout",
     "output_type": "stream",
     "text": [
      "[2]\n"
     ]
    }
   ],
   "source": [
    "val = ar1[:,1]\n",
    "print(val)"
   ]
  },
  {
   "cell_type": "code",
   "execution_count": 18,
   "id": "c6e5b97e-0ec0-430b-9f7a-6fdd92d1cd56",
   "metadata": {},
   "outputs": [
    {
     "name": "stdout",
     "output_type": "stream",
     "text": [
      "3\n"
     ]
    }
   ],
   "source": [
    "val = ar1[0,2]\n",
    "print(val)"
   ]
  },
  {
   "cell_type": "code",
   "execution_count": null,
   "id": "9c005ee8-7ca2-47b1-90a9-e53b366b3951",
   "metadata": {},
   "outputs": [],
   "source": []
  }
 ],
 "metadata": {
  "kernelspec": {
   "display_name": "Python 3 (ipykernel)",
   "language": "python",
   "name": "python3"
  },
  "language_info": {
   "codemirror_mode": {
    "name": "ipython",
    "version": 3
   },
   "file_extension": ".py",
   "mimetype": "text/x-python",
   "name": "python",
   "nbconvert_exporter": "python",
   "pygments_lexer": "ipython3",
   "version": "3.9.6"
  }
 },
 "nbformat": 4,
 "nbformat_minor": 5
}
